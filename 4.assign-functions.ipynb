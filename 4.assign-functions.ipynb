{
 "cells": [
  {
   "cell_type": "markdown",
   "id": "147fa094",
   "metadata": {},
   "source": [
    "# Question 1: Write a function which takes a list and a number as arguments. The function returns true if the number is present in the list otherwise false."
   ]
  },
  {
   "cell_type": "code",
   "execution_count": 60,
   "id": "b84fa543",
   "metadata": {},
   "outputs": [
    {
     "name": "stdout",
     "output_type": "stream",
     "text": [
      "True\n"
     ]
    }
   ],
   "source": [
    "list=[1,2,11,555,6,7,8,9]\n",
    "\n",
    "#check below number \n",
    "num=555\n",
    "\n",
    "#definig function\n",
    "def numpresent(list,num):\n",
    "    for i in range(len(list)):\n",
    "        if list[i]==num:\n",
    "            return print(\"True\")\n",
    "    return print(\"False\")\n",
    "    \n",
    "numpresent(list, num)\n",
    "   \n",
    "\n",
    "    "
   ]
  },
  {
   "cell_type": "markdown",
   "id": "ad46357d",
   "metadata": {},
   "source": [
    "# Question 2: Write a function which takes a list of numbers as arguments. The function returns a list of same length with Boolean values. True for numbers in the list which are prime False otherwise. (Other helping functions can be created).\n"
   ]
  },
  {
   "cell_type": "code",
   "execution_count": 52,
   "id": "8756fb6f",
   "metadata": {},
   "outputs": [
    {
     "name": "stdout",
     "output_type": "stream",
     "text": [
      "prime\n",
      "not prime\n",
      "prime\n",
      "not prime\n",
      "not prime\n",
      "not prime\n",
      "prime\n",
      "not prime\n",
      "not prime\n",
      "not prime\n",
      "not prime\n",
      "not prime\n",
      "prime\n",
      "not prime\n",
      "prime\n",
      "[2, 3, 5, 7]\n"
     ]
    }
   ],
   "source": [
    "def prime(n):\n",
    "    if n<=0:\n",
    "        return print(\"Number must be greater than 1\")\n",
    "    elif n==1:\n",
    "        return print(\"prime\")\n",
    "    for i in range(2,n):\n",
    "        if n%i==0:\n",
    "            return print(\"prime\")\n",
    "        else :\n",
    "            print(\"not prime\")   \n",
    "    return \"prime\"\n",
    "\n",
    "def list_prime(list):\n",
    "    prime_list=[]\n",
    "    for i in list:\n",
    "        x=prime(i)\n",
    "        if x==\"prime\":\n",
    "            prime_list.append(i)\n",
    "    return prime_list\n",
    "\n",
    "print(list_prime([1,2,3,4,5,6,7,8,9]))\n",
    "    "
   ]
  },
  {
   "cell_type": "markdown",
   "id": "37c52c57",
   "metadata": {},
   "source": [
    "# Question 3: Write a function which takes a list and an integer as argument. The function should return True if there is any pair of two consecutive numbers whose sum equals the integer (passed in the argument) otherwise False."
   ]
  },
  {
   "cell_type": "code",
   "execution_count": 10,
   "id": "ebcb8dae",
   "metadata": {},
   "outputs": [
    {
     "name": "stdout",
     "output_type": "stream",
     "text": [
      "14 25 20 11 "
     ]
    }
   ],
   "source": [
    "\n",
    "def pairwiseSum(lst, n):\n",
    "    sum = 0;\n",
    "    for i in range(len(lst)-1):\n",
    "       \n",
    "        # adding the alternate numbers\n",
    "        sum = lst[i] + lst[i + 1]\n",
    "        print (sum, end = \" \")\n",
    "        \n",
    "arr =[4, 10, 15, 5, 6]\n",
    "size = len(arr)\n",
    "\n",
    "pairwiseSum(arr,size)\n"
   ]
  },
  {
   "cell_type": "code",
   "execution_count": null,
   "id": "43dc5801",
   "metadata": {},
   "outputs": [],
   "source": []
  }
 ],
 "metadata": {
  "kernelspec": {
   "display_name": "Python 3 (ipykernel)",
   "language": "python",
   "name": "python3"
  },
  "language_info": {
   "codemirror_mode": {
    "name": "ipython",
    "version": 3
   },
   "file_extension": ".py",
   "mimetype": "text/x-python",
   "name": "python",
   "nbconvert_exporter": "python",
   "pygments_lexer": "ipython3",
   "version": "3.9.7"
  }
 },
 "nbformat": 4,
 "nbformat_minor": 5
}
